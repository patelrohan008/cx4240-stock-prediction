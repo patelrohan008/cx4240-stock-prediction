{
 "cells": [
  {
   "cell_type": "code",
   "execution_count": 12,
   "metadata": {},
   "outputs": [],
   "source": [
    "from vaderSentiment.vaderSentiment import SentimentIntensityAnalyzer\n",
    "\n",
    "import tweepy"
   ]
  },
  {
   "cell_type": "code",
   "execution_count": 13,
   "metadata": {},
   "outputs": [],
   "source": [
    "auth = tweepy.OAuthHandler(consumer_key='',\n",
    "                  consumer_secret='')\n",
    "api = tweepy.API(auth)"
   ]
  },
  {
   "cell_type": "code",
   "execution_count": 15,
   "metadata": {},
   "outputs": [
    {
     "name": "stdout",
     "output_type": "stream",
     "text": [
      "Tweet: b'RT @stoxline: $MSFT #MSFT Volume way up. Bullish indication in Stochastic oscillator and RSI. https://t.co/jOG2e9vPpC'\n",
      "\n",
      "Score: {'neg': 0.0, 'neu': 1.0, 'pos': 0.0, 'compound': 0.0}\n",
      "\n",
      "Tweet: b\"We're back from London, and we have some #Dynamics365BusinessCentral news you're going to want to hear #ERP #MSFT\\xe2\\x80\\xa6 https://t.co/TfNbzOXy37\"\n",
      "\n",
      "Score: {'neg': 0.0, 'neu': 0.933, 'pos': 0.067, 'compound': 0.0772}\n",
      "\n",
      "Tweet: b'JDA Empowers Retail Workforce with Microsoft Teams Integration https://t.co/NKDcaZxPzc\\n#JDA #JDASoftwareInc #Retail\\xe2\\x80\\xa6 https://t.co/m1vqSKIqLI'\n",
      "\n",
      "Score: {'neg': 0.0, 'neu': 1.0, 'pos': 0.0, 'compound': 0.0}\n",
      "\n",
      "Tweet: b'\\xf0\\x9f\\x91\\x8dLooking froward to seeing my old #MSFT buddy @dcoplin\\xe2\\x80\\x98s new show #TheRiseOfTheHumans @parabolaarts \\xf0\\x9f\\x91\\x8d https://t.co/ByDILkjrcE'\n",
      "\n",
      "Score: {'neg': 0.0, 'neu': 1.0, 'pos': 0.0, 'compound': 0.0}\n",
      "\n",
      "Tweet: b'Microsoft and Oracle explain their new cloud partnership - Business Insider https://t.co/oB07MSnkBk\\n#Microsoft\\xe2\\x80\\xa6 https://t.co/UOCxz3mNNK'\n",
      "\n",
      "Score: {'neg': 0.0, 'neu': 1.0, 'pos': 0.0, 'compound': 0.0}\n",
      "\n",
      "Tweet: b'Join me on my \"Azure SQL DW. Redefining MPP, how it stacks against Snowflake and RedShift\" presentation at\\xe2\\x80\\xa6 https://t.co/jyLnOYifWV'\n",
      "\n",
      "Score: {'neg': 0.0, 'neu': 1.0, 'pos': 0.0, 'compound': 0.0}\n",
      "\n",
      "Tweet: b'RT @EagleBrookCap: $VNUE\\n#NASDAQ #stockmarket #talkstocks #bullmarket #bearmarket #market #nyse #sp500 #stocktwits #nvda #robinhood #crytoc\\xe2\\x80\\xa6'\n",
      "\n",
      "Score: {'neg': 0.0, 'neu': 1.0, 'pos': 0.0, 'compound': 0.0}\n",
      "\n",
      "Tweet: b'RT @EagleBrookCap: $IVST\\n#NASDAQ #stockmarket #talkstocks #bullmarket #bearmarket #market #nyse #sp500 #stocktwits #nvda #robinhood #crytoc\\xe2\\x80\\xa6'\n",
      "\n",
      "Score: {'neg': 0.0, 'neu': 1.0, 'pos': 0.0, 'compound': 0.0}\n",
      "\n",
      "Tweet: b\"Google's challenge to game consoles to kick off in November $MSFT #MSFT #Lifestyle #Technology\\xe2\\x80\\xa6 https://t.co/3kQUzH46IR\"\n",
      "\n",
      "Score: {'neg': 0.0, 'neu': 0.915, 'pos': 0.085, 'compound': 0.0772}\n",
      "\n",
      "Tweet: b\"Google's challenge to game consoles to kick off in November $MSFT #MSFT #Lifestyle #Technology\\xe2\\x80\\xa6 https://t.co/NpQtgyy8Jf\"\n",
      "\n",
      "Score: {'neg': 0.0, 'neu': 0.915, 'pos': 0.085, 'compound': 0.0772}\n",
      "\n",
      "Tweet: b'RT @DavidGZeiler: This could be quite useful for non-professional #investors. Nice going, #Microsoft. \\nhttps://t.co/MHoz09zEeD via @engadge\\xe2\\x80\\xa6'\n",
      "\n",
      "Score: {'neg': 0.0, 'neu': 0.7, 'pos': 0.3, 'compound': 0.7178}\n",
      "\n",
      "Tweet: b'This could be quite useful for non-professional #investors. Nice going, #Microsoft. \\nhttps://t.co/MHoz09zEeD via\\xe2\\x80\\xa6 https://t.co/6nS7nJXMAi'\n",
      "\n",
      "Score: {'neg': 0.0, 'neu': 0.667, 'pos': 0.333, 'compound': 0.7178}\n",
      "\n",
      "Tweet: b\"$HOTH looks to push past $8 on today's news. Makes important step towards FDA approval for BioLexa!\\n\\nRead Now:\\xe2\\x80\\xa6 https://t.co/4XD6udvxUx\"\n",
      "\n",
      "Score: {'neg': 0.0, 'neu': 0.766, 'pos': 0.234, 'compound': 0.636}\n",
      "\n",
      "Tweet: b'$VNUE\\n#NASDAQ #stockmarket #talkstocks #bullmarket #bearmarket #market #nyse #sp500 #stocktwits #nvda #robinhood\\xe2\\x80\\xa6 https://t.co/EliFMbnjEg'\n",
      "\n",
      "Score: {'neg': 0.0, 'neu': 1.0, 'pos': 0.0, 'compound': 0.0}\n",
      "\n",
      "Tweet: b'$IVST\\n#NASDAQ #stockmarket #talkstocks #bullmarket #bearmarket #market #nyse #sp500 #stocktwits #nvda #robinhood\\xe2\\x80\\xa6 https://t.co/34OWS5ffGl'\n",
      "\n",
      "Score: {'neg': 0.0, 'neu': 1.0, 'pos': 0.0, 'compound': 0.0}\n",
      "\n",
      "Tweet: b'BLOCK TRADE detected in #MSFT'\n",
      "\n",
      "Score: {'neg': 0.0, 'neu': 1.0, 'pos': 0.0, 'compound': 0.0}\n",
      "\n",
      "Tweet: b'It\\xe2\\x80\\x99s time for Microsoft to kill the Microsoft Store \\xe2\\x80\\x94 or else fix it | Computerworld https://t.co/WDzQhTWt9Z\\xe2\\x80\\xa6 https://t.co/DYantPRUge'\n",
      "\n",
      "Score: {'neg': 0.227, 'neu': 0.773, 'pos': 0.0, 'compound': -0.6908}\n",
      "\n",
      "Tweet: b'$MSFT #MSFT Volume way up. Bullish indication in Stochastic oscillator and RSI. https://t.co/jOG2e9vPpC'\n",
      "\n",
      "Score: {'neg': 0.0, 'neu': 1.0, 'pos': 0.0, 'compound': 0.0}\n",
      "\n",
      "Tweet: b'Watch: Eliminate #EDI customization when moving #DynamicsAX and #DynamicsNAV to the cloud #ERP #MSFT #MSDyn\\xe2\\x80\\xa6 https://t.co/1wk9ZNMu3b'\n",
      "\n",
      "Score: {'neg': 0.0, 'neu': 1.0, 'pos': 0.0, 'compound': 0.0}\n",
      "\n",
      "Tweet: b'It\\xe2\\x80\\x99s time for Microsoft to kill the Microsoft Store \\xe2\\x80\\x94 or else fix it | Computerworld https://t.co/zexWVNESSL\\xe2\\x80\\xa6 https://t.co/vey6LO6g6F'\n",
      "\n",
      "Score: {'neg': 0.227, 'neu': 0.773, 'pos': 0.0, 'compound': -0.6908}\n",
      "\n",
      "Tweet: b'Need to combat clinician/physician fatigue? Check out the #MSFT #EmpowerMD project - an intelligent scribe the auto\\xe2\\x80\\xa6 https://t.co/BuRbXWncIz'\n",
      "\n",
      "Score: {'neg': 0.206, 'neu': 0.654, 'pos': 0.14, 'compound': -0.1027}\n",
      "\n",
      "Tweet: b'O pessoal que est\\xc3\\xa1 short em #ITUB na @B3_Oficial por causa das fintechs me lembra muito aqueles que estavam short e\\xe2\\x80\\xa6 https://t.co/mV5Qja1hbN'\n",
      "\n",
      "Score: {'neg': 0.0, 'neu': 1.0, 'pos': 0.0, 'compound': 0.0}\n",
      "\n",
      "Tweet: b'$HOTH is our new low-float Nasdaq listed biotech breakout alert [$10 Price Target]\\n\\nRead Now:\\xe2\\x80\\xa6 https://t.co/jxTBxQjsKH'\n",
      "\n",
      "Score: {'neg': 0.0, 'neu': 0.864, 'pos': 0.136, 'compound': 0.296}\n",
      "\n"
     ]
    }
   ],
   "source": [
    "analyzer = SentimentIntensityAnalyzer()\n",
    "\n",
    "for tweet in tweepy.Cursor(api.search, q = '#MSFT', rpp=100).items():\n",
    "    tempTweet = str(tweet.text.encode('utf-8'))\n",
    "    print('Tweet: ' + tempTweet + '\\n')\n",
    "    print('Score: ' + str(analyzer.polarity_scores(tempTweet)) + '\\n')\n",
    "    "
   ]
  },
  {
   "cell_type": "code",
   "execution_count": null,
   "metadata": {},
   "outputs": [],
   "source": []
  }
 ],
 "metadata": {
  "kernelspec": {
   "display_name": "Python 3",
   "language": "python",
   "name": "python3"
  },
  "language_info": {
   "codemirror_mode": {
    "name": "ipython",
    "version": 3
   },
   "file_extension": ".py",
   "mimetype": "text/x-python",
   "name": "python",
   "nbconvert_exporter": "python",
   "pygments_lexer": "ipython3",
   "version": "3.7.3"
  }
 },
 "nbformat": 4,
 "nbformat_minor": 2
}
