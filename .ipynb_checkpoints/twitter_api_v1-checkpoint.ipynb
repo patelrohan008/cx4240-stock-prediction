{
 "cells": [
  {
   "cell_type": "code",
   "execution_count": 1,
   "metadata": {},
   "outputs": [],
   "source": [
    "import twitter\n",
    "\n",
    "api = twitter.Api(consumer_key='',\n",
    "                  consumer_secret='',\n",
    "                  access_token_key='',\n",
    "                  access_token_secret='')\n",
    "\n",
    "    "
   ]
  },
  {
   "cell_type": "code",
   "execution_count": 2,
   "metadata": {},
   "outputs": [
    {
     "name": "stdout",
     "output_type": "stream",
     "text": [
      "{\"created_at\": \"Thu Jun 06 13:47:45 +0000 2019\", \"default_profile\": true, \"default_profile_image\": true, \"id\": 1136630760247422977, \"id_str\": \"1136630760247422977\", \"name\": \"cx4240-final-project\", \"profile_background_color\": \"F5F8FA\", \"profile_image_url\": \"http://abs.twimg.com/sticky/default_profile_images/default_profile_normal.png\", \"profile_image_url_https\": \"https://abs.twimg.com/sticky/default_profile_images/default_profile_normal.png\", \"profile_link_color\": \"1DA1F2\", \"profile_sidebar_border_color\": \"C0DEED\", \"profile_sidebar_fill_color\": \"DDEEF6\", \"profile_text_color\": \"333333\", \"profile_use_background_image\": true, \"screen_name\": \"cx4240\"}\n"
     ]
    }
   ],
   "source": [
    "print(api.VerifyCredentials())"
   ]
  },
  {
   "cell_type": "code",
   "execution_count": 4,
   "metadata": {
    "scrolled": true
   },
   "outputs": [
    {
     "name": "stdout",
     "output_type": "stream",
     "text": [
      "[Trend(Name='Stadia', Time=2019-06-06T17:43:31Z, URL=http://twitter.com/search?q=Stadia), Trend(Name='#AUSvWI', Time=2019-06-06T17:43:31Z, URL=http://twitter.com/search?q=%23AUSvWI), Trend(Name='#SHOPEESCAM', Time=2019-06-06T17:43:31Z, URL=http://twitter.com/search?q=%23SHOPEESCAM), Trend(Name='#PitMad', Time=2019-06-06T17:43:31Z, URL=http://twitter.com/search?q=%23PitMad), Trend(Name='#DDay75thAnniversary', Time=2019-06-06T17:43:31Z, URL=http://twitter.com/search?q=%23DDay75thAnniversary), Trend(Name='Mark Stevens', Time=2019-06-06T17:43:31Z, URL=http://twitter.com/search?q=%22Mark+Stevens%22), Trend(Name='Destiny 2', Time=2019-06-06T17:43:31Z, URL=http://twitter.com/search?q=%22Destiny+2%22), Trend(Name='Bayramda BetAsusTayız', Time=2019-06-06T17:43:31Z, URL=http://twitter.com/search?q=%22Bayramda+BetAsusTay%C4%B1z%22), Trend(Name='#100keredüşün', Time=2019-06-06T17:43:31Z, URL=http://twitter.com/search?q=%23100kered%C3%BC%C5%9F%C3%BCn), Trend(Name='Romário', Time=2019-06-06T17:43:31Z, URL=http://twitter.com/search?q=Rom%C3%A1rio), Trend(Name='5binTL OdulRetrobetTe', Time=2019-06-06T17:43:31Z, URL=http://twitter.com/search?q=%225binTL+OdulRetrobetTe%22), Trend(Name=\"Baldur's Gate 3\", Time=2019-06-06T17:43:31Z, URL=http://twitter.com/search?q=%22Baldur%27s+Gate+3%22), Trend(Name='EnPopülerCasino Ligobette', Time=2019-06-06T17:43:31Z, URL=http://twitter.com/search?q=%22EnPop%C3%BClerCasino+Ligobette%22), Trend(Name='Starc', Time=2019-06-06T17:43:31Z, URL=http://twitter.com/search?q=Starc), Trend(Name='West Indies', Time=2019-06-06T17:43:31Z, URL=http://twitter.com/search?q=%22West+Indies%22), Trend(Name='Renato Augusto', Time=2019-06-06T17:43:31Z, URL=http://twitter.com/search?q=%22Renato+Augusto%22), Trend(Name='Kürdistan', Time=2019-06-06T17:43:31Z, URL=http://twitter.com/search?q=K%C3%BCrdistan), Trend(Name='Bungie', Time=2019-06-06T17:43:31Z, URL=http://twitter.com/search?q=Bungie), Trend(Name='#Orduvalisi', Time=2019-06-06T17:43:31Z, URL=http://twitter.com/search?q=%23Orduvalisi), Trend(Name='#FuimosVida', Time=2019-06-06T17:43:31Z, URL=http://twitter.com/search?q=%23FuimosVida), Trend(Name='#TRTdeNiğdelioğlunaHayır', Time=2019-06-06T17:43:31Z, URL=http://twitter.com/search?q=%23TRTdeNi%C4%9Fdelio%C4%9FlunaHay%C4%B1r), Trend(Name='#DhoniKeepTheGlove', Time=2019-06-06T17:43:31Z, URL=http://twitter.com/search?q=%23DhoniKeepTheGlove), Trend(Name='#فعاليات_غرفه_الشرقيه', Time=2019-06-06T17:43:31Z, URL=http://twitter.com/search?q=%23%D9%81%D8%B9%D8%A7%D9%84%D9%8A%D8%A7%D8%AA_%D8%BA%D8%B1%D9%81%D9%87_%D8%A7%D9%84%D8%B4%D8%B1%D9%82%D9%8A%D9%87), Trend(Name='#2COOL4FESTA', Time=2019-06-06T17:43:31Z, URL=http://twitter.com/search?q=%232COOL4FESTA), Trend(Name='#TwinkleSharma', Time=2019-06-06T17:43:31Z, URL=http://twitter.com/search?q=%23TwinkleSharma), Trend(Name='#画力変化ビフォーアフター', Time=2019-06-06T17:43:31Z, URL=http://twitter.com/search?q=%23%E7%94%BB%E5%8A%9B%E5%A4%89%E5%8C%96%E3%83%93%E3%83%95%E3%82%A9%E3%83%BC%E3%82%A2%E3%83%95%E3%82%BF%E3%83%BC), Trend(Name='#FelizJueves', Time=2019-06-06T17:43:31Z, URL=http://twitter.com/search?q=%23FelizJueves), Trend(Name='#سداد_ديون_العسكر_المساجين', Time=2019-06-06T17:43:31Z, URL=http://twitter.com/search?q=%23%D8%B3%D8%AF%D8%A7%D8%AF_%D8%AF%D9%8A%D9%88%D9%86_%D8%A7%D9%84%D8%B9%D8%B3%D9%83%D8%B1_%D8%A7%D9%84%D9%85%D8%B3%D8%A7%D8%AC%D9%8A%D9%86), Trend(Name='#شخصيه_ودك_تقابلها_بالعيد', Time=2019-06-06T17:43:31Z, URL=http://twitter.com/search?q=%23%D8%B4%D8%AE%D8%B5%D9%8A%D9%87_%D9%88%D8%AF%D9%83_%D8%AA%D9%82%D8%A7%D8%A8%D9%84%D9%87%D8%A7_%D8%A8%D8%A7%D9%84%D8%B9%D9%8A%D8%AF), Trend(Name='#90MinutosFOX', Time=2019-06-06T17:43:31Z, URL=http://twitter.com/search?q=%2390MinutosFOX), Trend(Name='#SORRYBLACKPINK', Time=2019-06-06T17:43:31Z, URL=http://twitter.com/search?q=%23SORRYBLACKPINK), Trend(Name='#SaveSwampThing', Time=2019-06-06T17:43:31Z, URL=http://twitter.com/search?q=%23SaveSwampThing), Trend(Name='#IAmTheSudanRevolution', Time=2019-06-06T17:43:31Z, URL=http://twitter.com/search?q=%23IAmTheSudanRevolution), Trend(Name='#Avicii', Time=2019-06-06T17:43:31Z, URL=http://twitter.com/search?q=%23Avicii), Trend(Name='#Clouds', Time=2019-06-06T17:43:31Z, URL=http://twitter.com/search?q=%23Clouds), Trend(Name='#WIvAUS', Time=2019-06-06T17:43:31Z, URL=http://twitter.com/search?q=%23WIvAUS), Trend(Name='#プロフ帳診断', Time=2019-06-06T17:43:31Z, URL=http://twitter.com/search?q=%23%E3%83%97%E3%83%AD%E3%83%95%E5%B8%B3%E8%A8%BA%E6%96%AD), Trend(Name='#6Jun', Time=2019-06-06T17:43:31Z, URL=http://twitter.com/search?q=%236Jun), Trend(Name='#igot7selcaday', Time=2019-06-06T17:43:31Z, URL=http://twitter.com/search?q=%23igot7selcaday), Trend(Name='#60MilioniMenoUno', Time=2019-06-06T17:43:31Z, URL=http://twitter.com/search?q=%2360MilioniMenoUno), Trend(Name='#TimBergling', Time=2019-06-06T17:43:31Z, URL=http://twitter.com/search?q=%23TimBergling), Trend(Name='#BaldursGate3', Time=2019-06-06T17:43:31Z, URL=http://twitter.com/search?q=%23BaldursGate3), Trend(Name='#ガリベンガーV', Time=2019-06-06T17:43:31Z, URL=http://twitter.com/search?q=%23%E3%82%AC%E3%83%AA%E3%83%99%E3%83%B3%E3%82%AC%E3%83%BCV), Trend(Name='#EstupradaDeTaubaté', Time=2019-06-06T17:43:31Z, URL=http://twitter.com/search?q=%23EstupradaDeTaubat%C3%A9), Trend(Name='#RumboALaPotenciaMinera', Time=2019-06-06T17:43:31Z, URL=http://twitter.com/search?q=%23RumboALaPotenciaMinera), Trend(Name='#MICDrop', Time=2019-06-06T17:43:31Z, URL=http://twitter.com/search?q=%23MICDrop), Trend(Name='#하성운_솔로데뷔_100일_축하해', Time=2019-06-06T17:43:31Z, URL=http://twitter.com/search?q=%23%ED%95%98%EC%84%B1%EC%9A%B4_%EC%86%94%EB%A1%9C%EB%8D%B0%EB%B7%94_100%EC%9D%BC_%EC%B6%95%ED%95%98%ED%95%B4), Trend(Name='#ahgaseselcaday', Time=2019-06-06T17:43:31Z, URL=http://twitter.com/search?q=%23ahgaseselcaday), Trend(Name='#イケダンMAX', Time=2019-06-06T17:43:31Z, URL=http://twitter.com/search?q=%23%E3%82%A4%E3%82%B1%E3%83%80%E3%83%B3MAX), Trend(Name='#Thalapathy64', Time=2019-06-06T17:43:31Z, URL=http://twitter.com/search?q=%23Thalapathy64)]\n"
     ]
    }
   ],
   "source": [
    "print(api.GetTrendsCurrent())"
   ]
  },
  {
   "cell_type": "code",
   "execution_count": 9,
   "metadata": {},
   "outputs": [
    {
     "ename": "SyntaxError",
     "evalue": "invalid syntax (<ipython-input-9-efddafe401a8>, line 1)",
     "output_type": "error",
     "traceback": [
      "\u001b[1;36m  File \u001b[1;32m\"<ipython-input-9-efddafe401a8>\"\u001b[1;36m, line \u001b[1;32m1\u001b[0m\n\u001b[1;33m    pydoc api.[Trend]\u001b[0m\n\u001b[1;37m            ^\u001b[0m\n\u001b[1;31mSyntaxError\u001b[0m\u001b[1;31m:\u001b[0m invalid syntax\n"
     ]
    }
   ],
   "source": [
    "USERS = ['@']"
   ]
  },
  {
   "cell_type": "code",
   "execution_count": null,
   "metadata": {},
   "outputs": [],
   "source": []
  }
 ],
 "metadata": {
  "kernelspec": {
   "display_name": "Python 3",
   "language": "python",
   "name": "python3"
  },
  "language_info": {
   "codemirror_mode": {
    "name": "ipython",
    "version": 3
   },
   "file_extension": ".py",
   "mimetype": "text/x-python",
   "name": "python",
   "nbconvert_exporter": "python",
   "pygments_lexer": "ipython3",
   "version": "3.7.3"
  }
 },
 "nbformat": 4,
 "nbformat_minor": 2
}
