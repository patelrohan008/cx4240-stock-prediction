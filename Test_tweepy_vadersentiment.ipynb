{
 "cells": [
  {
   "cell_type": "code",
   "execution_count": 191,
   "metadata": {},
   "outputs": [],
   "source": [
    "from vaderSentiment.vaderSentiment import SentimentIntensityAnalyzer\n",
    "import tweepy\n",
    "import numpy as np\n",
    "import matplotlib.pyplot as plt\n",
    "%matplotlib inline"
   ]
  },
  {
   "cell_type": "code",
   "execution_count": 192,
   "metadata": {},
   "outputs": [],
   "source": [
    "from twitter_keys import * "
   ]
  },
  {
   "cell_type": "code",
   "execution_count": 193,
   "metadata": {},
   "outputs": [],
   "source": [
    "def twitter_setup():\n",
    "    # Authentication and access using keys\n",
    "    auth = tweepy.OAuthHandler(CONSUMER_KEY, CONSUMER_SECRET)\n",
    "    auth.set_access_token(ACCESS_TOKEN, ACCESS_SECRET)\n",
    "\n",
    "    # Obtain authenticated API\n",
    "    api = tweepy.API(auth,wait_on_rate_limit=True)\n",
    "    return api"
   ]
  },
  {
   "cell_type": "code",
   "execution_count": 194,
   "metadata": {},
   "outputs": [],
   "source": [
    "extractor=twitter_setup()"
   ]
  },
  {
   "cell_type": "code",
   "execution_count": 195,
   "metadata": {},
   "outputs": [],
   "source": [
    "def get_tweets(api, query,rpp,limit=None):\n",
    "        \"\"\"Return a list of all tweets from the authenticated API\"\"\"\n",
    "        tweets_list = []\n",
    "        for tweet in tweepy.Cursor(api.search,query,rpp=100).items():\n",
    "            tweets_list.append(tweet)\n",
    "        return tweets_list"
   ]
  },
  {
   "cell_type": "code",
   "execution_count": 196,
   "metadata": {},
   "outputs": [],
   "source": [
    "alltweets = get_tweets(extractor, query ='#msft', rpp=100)\n",
    "\n",
    "print(\"Number of tweets extracted: {}.\\n\".format(len(alltweets)))"
   ]
  },
  {
   "cell_type": "markdown",
   "metadata": {},
   "source": [
    "<h1>Reminder</h1>\n",
    "<p><u>screen_name:</u> tweet.user.screen_name,<br>\n",
    "    <u>tweet_id</u>:tweet.id\n",
    "<u>username:</u> tweet.user.name,<br>\n",
    "<u>created_at:</u> unicode(tweet.created_at),<br>\n",
    "<u>tweet_text:</u> tweet.text,<br>\n",
    "<u>User Location:</u> unicode(tweet.user.location),<br>\n",
    "<u>Tweet Coordinates:</u> unicode(tweet.coordinates),<br>\n",
    "<u>Retweet Count:</u> unicode(tweet.retweet_count),<br>\n",
    "<u>Retweeted:</u> unicode(tweet.retweeted),<br>\n",
    "<u>Phone Type:</u> unicode(tweet.source),<br>\n",
    "<u>Favorite Count:</u> unicode(tweet.favorite_count),<br>\n",
    "<u>Favorited:</u> unicode(tweet.favorited),<br>\n",
    "<u>Replied:</u> unicode(tweet.in_reply_to_status_id_str)</p>"
   ]
  },
  {
   "cell_type": "code",
   "execution_count": 197,
   "metadata": {},
   "outputs": [],
   "source": [
    "#DataFrame with the tweets\n",
    "df_tweets=pd.DataFrame(data=[tweet.text for tweet in alltweets], columns=['Tweets'])\n",
    "df_tweets['len']  = np.array([len(tweet.text) for tweet in alltweets])\n",
    "df_tweets['ID']   = np.array([tweet.id for tweet in alltweets])\n",
    "df_tweets['Date'] = np.array([tweet.created_at for tweet in alltweets])\n",
    "df_tweets['Source'] = np.array([tweet.source for tweet in alltweets])\n",
    "df_tweets['Likes']  = np.array([tweet.favorite_count for tweet in alltweets])\n",
    "df_tweets['RTs']    = np.array([tweet.retweet_count for tweet in alltweets])\n",
    "\n",
    "df_tweets.head()\n",
    "  "
   ]
  },
  {
   "cell_type": "code",
   "execution_count": 145,
   "metadata": {},
   "outputs": [],
   "source": [
    "#add the sentiment score of the tweet\n",
    "analyzer = SentimentIntensityAnalyzer()"
   ]
  },
  {
   "cell_type": "code",
   "execution_count": 146,
   "metadata": {},
   "outputs": [],
   "source": [
    "#add a column to the dataframe for the sentiment score\n",
    "df_tweets['sentiment_pos']=0\n",
    "df_tweets['sentiment_neg']=0\n",
    "df_tweets['sentiment_neu']=0\n",
    "df_tweets['sentiment_compound']=0"
   ]
  },
  {
   "cell_type": "code",
   "execution_count": 147,
   "metadata": {},
   "outputs": [],
   "source": [
    "for tweet in alltweets:\n",
    "    id_tweet=tweet.id\n",
    "    tempTweet = str(tweet.text.encode('utf-8'))\n",
    "    dict_sentiment=analyzer.polarity_scores(tempTweet)\n",
    "    sentiment_pos=dict_sentiment['pos']\n",
    "    sentiment_neg=dict_sentiment['neg']\n",
    "    sentiment_neu=dict_sentiment['neu']\n",
    "    sentiment_compound=dict_sentiment['compound']\n",
    "    df_tweets.loc[df_tweets.ID==id_tweet,'sentiment_pos']=sentiment_pos\n",
    "    df_tweets.loc[df_tweets.ID==id_tweet,'sentiment_neg']=sentiment_neg\n",
    "    df_tweets.loc[df_tweets.ID==id_tweet,'sentiment_neu']=sentiment_neu\n",
    "    df_tweets.loc[df_tweets.ID==id_tweet,'sentiment_compound']=sentiment_compound\n"
   ]
  },
  {
   "cell_type": "code",
   "execution_count": 198,
   "metadata": {},
   "outputs": [],
   "source": [
    "df_tweets[df_tweets['sentiment_compound']>0].head(3)"
   ]
  },
  {
   "cell_type": "code",
   "execution_count": 136,
   "metadata": {},
   "outputs": [
    {
     "data": {
      "text/plain": [
       "205"
      ]
     },
     "execution_count": 136,
     "metadata": {},
     "output_type": "execute_result"
    }
   ],
   "source": [
    "num_pos_tweets=df_tweets[df_tweets['sentiment_compound']>0]['Tweets'].count()\n",
    "num_pos_tweets"
   ]
  },
  {
   "cell_type": "code",
   "execution_count": 152,
   "metadata": {},
   "outputs": [
    {
     "name": "stdout",
     "output_type": "stream",
     "text": [
      "Percentage of neutral tweets: 84.8%\n",
      "Percentage of positive tweets: 5.0%\n",
      "Percentage of negative tweets: 10.2%\n"
     ]
    }
   ],
   "source": [
    "#Percentages\n",
    "num_rows=df_tweets.shape[0]\n",
    "perc_pos_tweets=round(100*df_tweets[df_tweets['sentiment_compound']>0]['Tweets'].count()/num_rows,1)\n",
    "perc_neg_tweets=round(100*df_tweets[df_tweets['sentiment_compound']<0]['Tweets'].count()/num_rows,1)\n",
    "perc_neu_tweets=round(100*df_tweets[df_tweets['sentiment_compound']==0]['Tweets'].count()/num_rows,1)\n",
    "print(\"Percentage of neutral tweets: {}%\".format(perc_neu_tweets))\n",
    "print(\"Percentage of positive tweets: {}%\".format(perc_pos_tweets))\n",
    "print(\"Percentage of negative tweets: {}%\".format(perc_neg_tweets))"
   ]
  },
  {
   "cell_type": "code",
   "execution_count": null,
   "metadata": {},
   "outputs": [],
   "source": [
    "# Create time serie based on compound sentiment\n",
    "ts_compound=pd.Series(data=df_tweets['sentiment_compound'].values, index=df_tweets['Date'])"
   ]
  },
  {
   "cell_type": "code",
   "execution_count": null,
   "metadata": {},
   "outputs": [],
   "source": [
    "#Plot compound sentiment\n",
    "ts_compound.plot()"
   ]
  }
 ],
 "metadata": {
  "kernelspec": {
   "display_name": "Python 3",
   "language": "python",
   "name": "python3"
  },
  "language_info": {
   "codemirror_mode": {
    "name": "ipython",
    "version": 3
   },
   "file_extension": ".py",
   "mimetype": "text/x-python",
   "name": "python",
   "nbconvert_exporter": "python",
   "pygments_lexer": "ipython3",
   "version": "3.6.7"
  }
 },
 "nbformat": 4,
 "nbformat_minor": 2
}
