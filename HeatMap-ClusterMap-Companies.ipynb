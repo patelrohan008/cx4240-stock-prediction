{
 "cells": [
  {
   "cell_type": "code",
   "execution_count": 2,
   "metadata": {},
   "outputs": [],
   "source": [
    "import numpy as np\n",
    "import json\n",
    "import requests\n",
    "import pandas as pd\n",
    "import matplotlib.pyplot as plt\n",
    "import time\n",
    "import seaborn as sns"
   ]
  },
  {
   "cell_type": "code",
   "execution_count": 3,
   "metadata": {},
   "outputs": [],
   "source": [
    "a = pd.read_json(\"data\\AMD-19.json\", orient = \"columns\", precise_float = True)[\"close\"]\n",
    "b = pd.read_json(\"data\\Microsoft-19.json\", orient = \"columns\", precise_float = True)[\"close\"]\n",
    "c = pd.read_json(\"data\\Apple-19.json\", orient = \"columns\", precise_float = True)[\"close\"]\n",
    "d = pd.read_json(\"data\\ATT-19.json\", orient = \"columns\", precise_float = True)[\"close\"]\n",
    "e = pd.read_json(\"data\\Boeing-19.json\", orient = \"columns\", precise_float = True)[\"close\"]\n",
    "f = pd.read_json(\"data\\CVS-19.json\", orient = \"columns\", precise_float = True)[\"close\"]\n",
    "g = pd.read_json(\"data\\Delta-Airlines-19.json\", orient = \"columns\", precise_float = True)[\"close\"]\n",
    "h = pd.read_json(\"data\\Disney-19.json\", orient = \"columns\", precise_float = True)[\"close\"]\n",
    "i = pd.read_json(\"data\\Exxon-19.json\", orient = \"columns\", precise_float = True)[\"close\"]\n",
    "j = pd.read_json(\"data\\GM-19.json\", orient = \"columns\", precise_float = True)[\"close\"]\n",
    "k = pd.read_json(\"data\\GOOGL-19.json\", orient = \"columns\", precise_float = True)[\"close\"]\n",
    "l = pd.read_json(\"data\\JP-Morgan-19.json\", orient = \"columns\", precise_float = True)[\"close\"]\n",
    "m = pd.read_json(\"data\\Pfizer-19.json\", orient = \"columns\", precise_float = True)[\"close\"]\n",
    "n = pd.read_json(\"data\\Walmart-19.json\", orient = \"columns\", precise_float = True)[\"close\"]\n",
    "\n",
    "df_pivot=pd.DataFrame({\"AMD\":a, \"MSFT\":b, \"Apple\":c, \"ATT\":d,\"Boeing\":e,\"CVS\":f,\"Delta Air:\":g,\"Disney\":h,\"Exxon\":i,\"GM\":j,\"Google\":k,\"JP-Morgan\":l,\"Pfizer\":m,\"Walmart\":n})"
   ]
  },
  {
   "cell_type": "code",
   "execution_count": 4,
   "metadata": {},
   "outputs": [],
   "source": [
    "corr_df = df_pivot.corr(method='pearson')"
   ]
  },
  {
   "cell_type": "code",
   "execution_count": 5,
   "metadata": {},
   "outputs": [
    {
     "data": {
      "text/html": [
       "<div>\n",
       "<style scoped>\n",
       "    .dataframe tbody tr th:only-of-type {\n",
       "        vertical-align: middle;\n",
       "    }\n",
       "\n",
       "    .dataframe tbody tr th {\n",
       "        vertical-align: top;\n",
       "    }\n",
       "\n",
       "    .dataframe thead th {\n",
       "        text-align: right;\n",
       "    }\n",
       "</style>\n",
       "<table border=\"1\" class=\"dataframe\">\n",
       "  <thead>\n",
       "    <tr style=\"text-align: right;\">\n",
       "      <th></th>\n",
       "      <th>AMD</th>\n",
       "      <th>MSFT</th>\n",
       "      <th>Apple</th>\n",
       "      <th>ATT</th>\n",
       "      <th>Boeing</th>\n",
       "      <th>CVS</th>\n",
       "      <th>Delta Air:</th>\n",
       "      <th>Disney</th>\n",
       "      <th>Exxon</th>\n",
       "      <th>GM</th>\n",
       "      <th>Google</th>\n",
       "      <th>JP-Morgan</th>\n",
       "      <th>Pfizer</th>\n",
       "      <th>Walmart</th>\n",
       "    </tr>\n",
       "  </thead>\n",
       "  <tbody>\n",
       "    <tr>\n",
       "      <th>AMD</th>\n",
       "      <td>1.000000</td>\n",
       "      <td>0.919796</td>\n",
       "      <td>0.839758</td>\n",
       "      <td>0.746620</td>\n",
       "      <td>-0.176544</td>\n",
       "      <td>-0.734700</td>\n",
       "      <td>0.851287</td>\n",
       "      <td>0.808046</td>\n",
       "      <td>0.312227</td>\n",
       "      <td>-0.018468</td>\n",
       "      <td>0.214954</td>\n",
       "      <td>0.729915</td>\n",
       "      <td>0.121850</td>\n",
       "      <td>0.825161</td>\n",
       "    </tr>\n",
       "    <tr>\n",
       "      <th>MSFT</th>\n",
       "      <td>0.919796</td>\n",
       "      <td>1.000000</td>\n",
       "      <td>0.844989</td>\n",
       "      <td>0.759110</td>\n",
       "      <td>-0.279363</td>\n",
       "      <td>-0.793300</td>\n",
       "      <td>0.842648</td>\n",
       "      <td>0.907193</td>\n",
       "      <td>0.259362</td>\n",
       "      <td>-0.083309</td>\n",
       "      <td>0.220771</td>\n",
       "      <td>0.806540</td>\n",
       "      <td>0.053916</td>\n",
       "      <td>0.888952</td>\n",
       "    </tr>\n",
       "    <tr>\n",
       "      <th>Apple</th>\n",
       "      <td>0.839758</td>\n",
       "      <td>0.844989</td>\n",
       "      <td>1.000000</td>\n",
       "      <td>0.550399</td>\n",
       "      <td>0.006094</td>\n",
       "      <td>-0.774111</td>\n",
       "      <td>0.896528</td>\n",
       "      <td>0.683172</td>\n",
       "      <td>0.646216</td>\n",
       "      <td>0.269587</td>\n",
       "      <td>0.601701</td>\n",
       "      <td>0.767969</td>\n",
       "      <td>-0.140450</td>\n",
       "      <td>0.655415</td>\n",
       "    </tr>\n",
       "    <tr>\n",
       "      <th>ATT</th>\n",
       "      <td>0.746620</td>\n",
       "      <td>0.759110</td>\n",
       "      <td>0.550399</td>\n",
       "      <td>1.000000</td>\n",
       "      <td>-0.318411</td>\n",
       "      <td>-0.566798</td>\n",
       "      <td>0.663110</td>\n",
       "      <td>0.660398</td>\n",
       "      <td>0.145950</td>\n",
       "      <td>-0.089277</td>\n",
       "      <td>0.011420</td>\n",
       "      <td>0.518063</td>\n",
       "      <td>0.357850</td>\n",
       "      <td>0.800692</td>\n",
       "    </tr>\n",
       "    <tr>\n",
       "      <th>Boeing</th>\n",
       "      <td>-0.176544</td>\n",
       "      <td>-0.279363</td>\n",
       "      <td>0.006094</td>\n",
       "      <td>-0.318411</td>\n",
       "      <td>1.000000</td>\n",
       "      <td>0.144078</td>\n",
       "      <td>-0.151480</td>\n",
       "      <td>-0.374233</td>\n",
       "      <td>0.509729</td>\n",
       "      <td>0.716830</td>\n",
       "      <td>0.281639</td>\n",
       "      <td>-0.159613</td>\n",
       "      <td>0.012464</td>\n",
       "      <td>-0.213856</td>\n",
       "    </tr>\n",
       "  </tbody>\n",
       "</table>\n",
       "</div>"
      ],
      "text/plain": [
       "             AMD      MSFT     Apple       ATT    Boeing       CVS  \\\n",
       "AMD     1.000000  0.919796  0.839758  0.746620 -0.176544 -0.734700   \n",
       "MSFT    0.919796  1.000000  0.844989  0.759110 -0.279363 -0.793300   \n",
       "Apple   0.839758  0.844989  1.000000  0.550399  0.006094 -0.774111   \n",
       "ATT     0.746620  0.759110  0.550399  1.000000 -0.318411 -0.566798   \n",
       "Boeing -0.176544 -0.279363  0.006094 -0.318411  1.000000  0.144078   \n",
       "\n",
       "        Delta Air:    Disney     Exxon        GM    Google  JP-Morgan  \\\n",
       "AMD       0.851287  0.808046  0.312227 -0.018468  0.214954   0.729915   \n",
       "MSFT      0.842648  0.907193  0.259362 -0.083309  0.220771   0.806540   \n",
       "Apple     0.896528  0.683172  0.646216  0.269587  0.601701   0.767969   \n",
       "ATT       0.663110  0.660398  0.145950 -0.089277  0.011420   0.518063   \n",
       "Boeing   -0.151480 -0.374233  0.509729  0.716830  0.281639  -0.159613   \n",
       "\n",
       "          Pfizer   Walmart  \n",
       "AMD     0.121850  0.825161  \n",
       "MSFT    0.053916  0.888952  \n",
       "Apple  -0.140450  0.655415  \n",
       "ATT     0.357850  0.800692  \n",
       "Boeing  0.012464 -0.213856  "
      ]
     },
     "execution_count": 5,
     "metadata": {},
     "output_type": "execute_result"
    }
   ],
   "source": [
    "corr_df.head()"
   ]
  },
  {
   "cell_type": "code",
   "execution_count": 6,
   "metadata": {},
   "outputs": [
    {
     "data": {
      "text/plain": [
       "<seaborn.matrix.ClusterGrid at 0x1b69712a630>"
      ]
     },
     "execution_count": 6,
     "metadata": {},
     "output_type": "execute_result"
    },
    {
     "data": {
      "image/png": "[encoded data removed]",
      "text/plain": [
       "<matplotlib.figure.Figure at 0x1b69712a5f8>"
      ]
     },
     "metadata": {},
     "output_type": "display_data"
    },
    {
     "data": {
      "image/png": "[encoded data removed]",
      "text/plain": [
       "<matplotlib.figure.Figure at 0x1b6974b4390>"
      ]
     },
     "metadata": {},
     "output_type": "display_data"
    }
   ],
   "source": [
    "# Compute the correlation matrix\n",
    "corr =corr_df\n",
    "\n",
    "# Generate a mask for the upper triangle\n",
    "mask = np.zeros_like(corr, dtype=np.bool)\n",
    "mask[np.triu_indices_from(mask)] = True\n",
    "\n",
    "# Set up the matplotlib figure\n",
    "f, ax = plt.subplots(figsize=(11, 9))\n",
    "\n",
    "# Generate a custom diverging colormap\n",
    "cmap = sns.diverging_palette(220, 10, as_cmap=True)\n",
    "\n",
    "# Draw the heatmap with the mask and correct aspect ratio\n",
    "sns.heatmap(corr, mask=mask, cmap=cmap, vmax=.3, center=0.1,\n",
    "            square=True, linewidths=.5, cbar_kws={\"shrink\": .5})\n",
    "sns.clustermap(corr)"
   ]
  },
  {
   "cell_type": "code",
   "execution_count": null,
   "metadata": {},
   "outputs": [],
   "source": []
  }
 ],
 "metadata": {
  "kernelspec": {
   "display_name": "Python 3",
   "language": "python",
   "name": "python3"
  },
  "language_info": {
   "codemirror_mode": {
    "name": "ipython",
    "version": 3
   },
   "file_extension": ".py",
   "mimetype": "text/x-python",
   "name": "python",
   "nbconvert_exporter": "python",
   "pygments_lexer": "ipython3",
   "version": "3.6.8"
  }
 },
 "nbformat": 4,
 "nbformat_minor": 2
}
