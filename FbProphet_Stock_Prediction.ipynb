{
 "cells": [
  {
   "cell_type": "code",
   "execution_count": 3,
   "metadata": {},
   "outputs": [],
   "source": [
    "import pandas as pd\n",
    "from fbprophet import Prophet\n",
    "from alpha_vantage.timeseries import TimeSeries\n",
    "import matplotlib as plt\n",
    "%matplotlib inline\n",
    "import os\n",
    "import numpy as np\n",
    "import json\n",
    "import requests\n",
    "import pandas as pd"
   ]
  },
  {
   "cell_type": "code",
   "execution_count": 4,
   "metadata": {},
   "outputs": [],
   "source": [
    "api_key='XXXXX'"
   ]
  },
  {
   "cell_type": "code",
   "execution_count": 5,
   "metadata": {},
   "outputs": [],
   "source": [
    "msft_stock=requests.get('https://www.alphavantage.co/query?function=TIME_SERIES_DAILY&symbol=MSFT&outputsize=full&apikey=api_key').json()"
   ]
  },
  {
   "cell_type": "code",
   "execution_count": 6,
   "metadata": {},
   "outputs": [],
   "source": [
    "msft_stock_df=pd.DataFrame(msft_stock[\"Time Series (Daily)\"]).transpose()"
   ]
  },
  {
   "cell_type": "code",
   "execution_count": 7,
   "metadata": {},
   "outputs": [
    {
     "data": {
      "text/html": [
       "<div>\n",
       "<style scoped>\n",
       "    .dataframe tbody tr th:only-of-type {\n",
       "        vertical-align: middle;\n",
       "    }\n",
       "\n",
       "    .dataframe tbody tr th {\n",
       "        vertical-align: top;\n",
       "    }\n",
       "\n",
       "    .dataframe thead th {\n",
       "        text-align: right;\n",
       "    }\n",
       "</style>\n",
       "<table border=\"1\" class=\"dataframe\">\n",
       "  <thead>\n",
       "    <tr style=\"text-align: right;\">\n",
       "      <th></th>\n",
       "      <th>1. open</th>\n",
       "      <th>2. high</th>\n",
       "      <th>3. low</th>\n",
       "      <th>4. close</th>\n",
       "      <th>5. volume</th>\n",
       "    </tr>\n",
       "  </thead>\n",
       "  <tbody>\n",
       "    <tr>\n",
       "      <th>1998-01-08</th>\n",
       "      <td>128.6300</td>\n",
       "      <td>132.1300</td>\n",
       "      <td>127.5000</td>\n",
       "      <td>130.5000</td>\n",
       "      <td>9702400</td>\n",
       "    </tr>\n",
       "    <tr>\n",
       "      <th>1998-01-07</th>\n",
       "      <td>129.8800</td>\n",
       "      <td>131.1900</td>\n",
       "      <td>127.5000</td>\n",
       "      <td>129.5600</td>\n",
       "      <td>7686600</td>\n",
       "    </tr>\n",
       "    <tr>\n",
       "      <th>1998-01-06</th>\n",
       "      <td>129.7500</td>\n",
       "      <td>133.0000</td>\n",
       "      <td>129.2500</td>\n",
       "      <td>131.1300</td>\n",
       "      <td>8479300</td>\n",
       "    </tr>\n",
       "    <tr>\n",
       "      <th>1998-01-05</th>\n",
       "      <td>131.2500</td>\n",
       "      <td>133.6300</td>\n",
       "      <td>127.8700</td>\n",
       "      <td>130.3800</td>\n",
       "      <td>10047200</td>\n",
       "    </tr>\n",
       "    <tr>\n",
       "      <th>1998-01-02</th>\n",
       "      <td>129.6300</td>\n",
       "      <td>131.5000</td>\n",
       "      <td>129.5000</td>\n",
       "      <td>131.1300</td>\n",
       "      <td>4968500</td>\n",
       "    </tr>\n",
       "  </tbody>\n",
       "</table>\n",
       "</div>"
      ],
      "text/plain": [
       "             1. open   2. high    3. low  4. close 5. volume\n",
       "1998-01-08  128.6300  132.1300  127.5000  130.5000   9702400\n",
       "1998-01-07  129.8800  131.1900  127.5000  129.5600   7686600\n",
       "1998-01-06  129.7500  133.0000  129.2500  131.1300   8479300\n",
       "1998-01-05  131.2500  133.6300  127.8700  130.3800  10047200\n",
       "1998-01-02  129.6300  131.5000  129.5000  131.1300   4968500"
      ]
     },
     "execution_count": 7,
     "metadata": {},
     "output_type": "execute_result"
    }
   ],
   "source": [
    "msft_stock_df.tail()"
   ]
  },
  {
   "cell_type": "code",
   "execution_count": 8,
   "metadata": {},
   "outputs": [],
   "source": [
    "#msft_stock_df.to_json(r'msft_stock_history.json')"
   ]
  },
  {
   "cell_type": "code",
   "execution_count": 9,
   "metadata": {},
   "outputs": [
    {
     "data": {
      "text/html": [
       "<div>\n",
       "<style scoped>\n",
       "    .dataframe tbody tr th:only-of-type {\n",
       "        vertical-align: middle;\n",
       "    }\n",
       "\n",
       "    .dataframe tbody tr th {\n",
       "        vertical-align: top;\n",
       "    }\n",
       "\n",
       "    .dataframe thead th {\n",
       "        text-align: right;\n",
       "    }\n",
       "</style>\n",
       "<table border=\"1\" class=\"dataframe\">\n",
       "  <thead>\n",
       "    <tr style=\"text-align: right;\">\n",
       "      <th></th>\n",
       "      <th>index</th>\n",
       "      <th>1. open</th>\n",
       "      <th>2. high</th>\n",
       "      <th>3. low</th>\n",
       "      <th>4. close</th>\n",
       "      <th>5. volume</th>\n",
       "    </tr>\n",
       "  </thead>\n",
       "  <tbody>\n",
       "    <tr>\n",
       "      <th>5412</th>\n",
       "      <td>1998-01-08</td>\n",
       "      <td>128.6300</td>\n",
       "      <td>132.1300</td>\n",
       "      <td>127.5000</td>\n",
       "      <td>130.5000</td>\n",
       "      <td>9702400</td>\n",
       "    </tr>\n",
       "    <tr>\n",
       "      <th>5413</th>\n",
       "      <td>1998-01-07</td>\n",
       "      <td>129.8800</td>\n",
       "      <td>131.1900</td>\n",
       "      <td>127.5000</td>\n",
       "      <td>129.5600</td>\n",
       "      <td>7686600</td>\n",
       "    </tr>\n",
       "    <tr>\n",
       "      <th>5414</th>\n",
       "      <td>1998-01-06</td>\n",
       "      <td>129.7500</td>\n",
       "      <td>133.0000</td>\n",
       "      <td>129.2500</td>\n",
       "      <td>131.1300</td>\n",
       "      <td>8479300</td>\n",
       "    </tr>\n",
       "    <tr>\n",
       "      <th>5415</th>\n",
       "      <td>1998-01-05</td>\n",
       "      <td>131.2500</td>\n",
       "      <td>133.6300</td>\n",
       "      <td>127.8700</td>\n",
       "      <td>130.3800</td>\n",
       "      <td>10047200</td>\n",
       "    </tr>\n",
       "    <tr>\n",
       "      <th>5416</th>\n",
       "      <td>1998-01-02</td>\n",
       "      <td>129.6300</td>\n",
       "      <td>131.5000</td>\n",
       "      <td>129.5000</td>\n",
       "      <td>131.1300</td>\n",
       "      <td>4968500</td>\n",
       "    </tr>\n",
       "  </tbody>\n",
       "</table>\n",
       "</div>"
      ],
      "text/plain": [
       "           index   1. open   2. high    3. low  4. close 5. volume\n",
       "5412  1998-01-08  128.6300  132.1300  127.5000  130.5000   9702400\n",
       "5413  1998-01-07  129.8800  131.1900  127.5000  129.5600   7686600\n",
       "5414  1998-01-06  129.7500  133.0000  129.2500  131.1300   8479300\n",
       "5415  1998-01-05  131.2500  133.6300  127.8700  130.3800  10047200\n",
       "5416  1998-01-02  129.6300  131.5000  129.5000  131.1300   4968500"
      ]
     },
     "execution_count": 9,
     "metadata": {},
     "output_type": "execute_result"
    }
   ],
   "source": [
    "msft_stock_df=msft_stock_df.reset_index()\n",
    "msft_stock_df.tail()"
   ]
  },
  {
   "cell_type": "code",
   "execution_count": 10,
   "metadata": {},
   "outputs": [
    {
     "data": {
      "text/plain": [
       "Index(['index', '1. open', '2. high', '3. low', '4. close', '5. volume'], dtype='object')"
      ]
     },
     "execution_count": 10,
     "metadata": {},
     "output_type": "execute_result"
    }
   ],
   "source": [
    "msft_stock_df.columns  "
   ]
  },
  {
   "cell_type": "code",
   "execution_count": 11,
   "metadata": {},
   "outputs": [],
   "source": [
    "msft_stock_df['index'] =  pd.to_datetime(msft_stock_df['index'], format='%Y-%m-%d')\n",
    "msft_stock_df=msft_stock_df[ msft_stock_df['index']>='2018-01-01']\n"
   ]
  },
  {
   "cell_type": "code",
   "execution_count": 12,
   "metadata": {},
   "outputs": [
    {
     "data": {
      "text/html": [
       "<div>\n",
       "<style scoped>\n",
       "    .dataframe tbody tr th:only-of-type {\n",
       "        vertical-align: middle;\n",
       "    }\n",
       "\n",
       "    .dataframe tbody tr th {\n",
       "        vertical-align: top;\n",
       "    }\n",
       "\n",
       "    .dataframe thead th {\n",
       "        text-align: right;\n",
       "    }\n",
       "</style>\n",
       "<table border=\"1\" class=\"dataframe\">\n",
       "  <thead>\n",
       "    <tr style=\"text-align: right;\">\n",
       "      <th></th>\n",
       "      <th>index</th>\n",
       "      <th>1. open</th>\n",
       "      <th>2. high</th>\n",
       "      <th>3. low</th>\n",
       "      <th>4. close</th>\n",
       "      <th>5. volume</th>\n",
       "    </tr>\n",
       "  </thead>\n",
       "  <tbody>\n",
       "    <tr>\n",
       "      <th>0</th>\n",
       "      <td>2019-07-15</td>\n",
       "      <td>139.4400</td>\n",
       "      <td>139.5400</td>\n",
       "      <td>138.4600</td>\n",
       "      <td>138.9000</td>\n",
       "      <td>16646179</td>\n",
       "    </tr>\n",
       "    <tr>\n",
       "      <th>1</th>\n",
       "      <td>2019-07-12</td>\n",
       "      <td>138.8500</td>\n",
       "      <td>139.1300</td>\n",
       "      <td>138.0099</td>\n",
       "      <td>138.9000</td>\n",
       "      <td>18936832</td>\n",
       "    </tr>\n",
       "    <tr>\n",
       "      <th>2</th>\n",
       "      <td>2019-07-11</td>\n",
       "      <td>138.2000</td>\n",
       "      <td>139.2200</td>\n",
       "      <td>137.8700</td>\n",
       "      <td>138.4000</td>\n",
       "      <td>22327942</td>\n",
       "    </tr>\n",
       "    <tr>\n",
       "      <th>3</th>\n",
       "      <td>2019-07-10</td>\n",
       "      <td>137.1300</td>\n",
       "      <td>138.5800</td>\n",
       "      <td>137.0200</td>\n",
       "      <td>137.8500</td>\n",
       "      <td>24204362</td>\n",
       "    </tr>\n",
       "    <tr>\n",
       "      <th>4</th>\n",
       "      <td>2019-07-09</td>\n",
       "      <td>136.0000</td>\n",
       "      <td>136.9700</td>\n",
       "      <td>135.8000</td>\n",
       "      <td>136.4600</td>\n",
       "      <td>19953097</td>\n",
       "    </tr>\n",
       "  </tbody>\n",
       "</table>\n",
       "</div>"
      ],
      "text/plain": [
       "       index   1. open   2. high    3. low  4. close 5. volume\n",
       "0 2019-07-15  139.4400  139.5400  138.4600  138.9000  16646179\n",
       "1 2019-07-12  138.8500  139.1300  138.0099  138.9000  18936832\n",
       "2 2019-07-11  138.2000  139.2200  137.8700  138.4000  22327942\n",
       "3 2019-07-10  137.1300  138.5800  137.0200  137.8500  24204362\n",
       "4 2019-07-09  136.0000  136.9700  135.8000  136.4600  19953097"
      ]
     },
     "execution_count": 12,
     "metadata": {},
     "output_type": "execute_result"
    }
   ],
   "source": [
    "msft_stock_df.head()"
   ]
  },
  {
   "cell_type": "code",
   "execution_count": 13,
   "metadata": {},
   "outputs": [
    {
     "data": {
      "text/plain": [
       "385"
      ]
     },
     "execution_count": 13,
     "metadata": {},
     "output_type": "execute_result"
    }
   ],
   "source": [
    "msft_stock_df.shape[0]"
   ]
  },
  {
   "cell_type": "code",
   "execution_count": 14,
   "metadata": {},
   "outputs": [],
   "source": [
    "#Split the data\n",
    "#Training data: first 80% of the data. To fit\n",
    "#Test data: remaining 20%\n",
    "msft_stock_df_training=msft_stock_df.iloc[int(0.2*msft_stock_df.shape[0]):msft_stock_df.shape[0]-1]\n",
    "msft_stock_df_testing=msft_stock_df.iloc[0:int(0.2*msft_stock_df.shape[0])]"
   ]
  },
  {
   "cell_type": "code",
   "execution_count": 15,
   "metadata": {},
   "outputs": [
    {
     "name": "stdout",
     "output_type": "stream",
     "text": [
      "(307, 6)\n",
      "(77, 6)\n"
     ]
    }
   ],
   "source": [
    "print(msft_stock_df_training.shape)\n",
    "print(msft_stock_df_testing.shape)"
   ]
  },
  {
   "cell_type": "code",
   "execution_count": 16,
   "metadata": {},
   "outputs": [
    {
     "data": {
      "text/html": [
       "<div>\n",
       "<style scoped>\n",
       "    .dataframe tbody tr th:only-of-type {\n",
       "        vertical-align: middle;\n",
       "    }\n",
       "\n",
       "    .dataframe tbody tr th {\n",
       "        vertical-align: top;\n",
       "    }\n",
       "\n",
       "    .dataframe thead th {\n",
       "        text-align: right;\n",
       "    }\n",
       "</style>\n",
       "<table border=\"1\" class=\"dataframe\">\n",
       "  <thead>\n",
       "    <tr style=\"text-align: right;\">\n",
       "      <th></th>\n",
       "      <th>index</th>\n",
       "      <th>1. open</th>\n",
       "      <th>2. high</th>\n",
       "      <th>3. low</th>\n",
       "      <th>4. close</th>\n",
       "      <th>5. volume</th>\n",
       "    </tr>\n",
       "  </thead>\n",
       "  <tbody>\n",
       "    <tr>\n",
       "      <th>0</th>\n",
       "      <td>2019-07-15</td>\n",
       "      <td>139.4400</td>\n",
       "      <td>139.5400</td>\n",
       "      <td>138.4600</td>\n",
       "      <td>138.9000</td>\n",
       "      <td>16646179</td>\n",
       "    </tr>\n",
       "    <tr>\n",
       "      <th>1</th>\n",
       "      <td>2019-07-12</td>\n",
       "      <td>138.8500</td>\n",
       "      <td>139.1300</td>\n",
       "      <td>138.0099</td>\n",
       "      <td>138.9000</td>\n",
       "      <td>18936832</td>\n",
       "    </tr>\n",
       "    <tr>\n",
       "      <th>2</th>\n",
       "      <td>2019-07-11</td>\n",
       "      <td>138.2000</td>\n",
       "      <td>139.2200</td>\n",
       "      <td>137.8700</td>\n",
       "      <td>138.4000</td>\n",
       "      <td>22327942</td>\n",
       "    </tr>\n",
       "    <tr>\n",
       "      <th>3</th>\n",
       "      <td>2019-07-10</td>\n",
       "      <td>137.1300</td>\n",
       "      <td>138.5800</td>\n",
       "      <td>137.0200</td>\n",
       "      <td>137.8500</td>\n",
       "      <td>24204362</td>\n",
       "    </tr>\n",
       "    <tr>\n",
       "      <th>4</th>\n",
       "      <td>2019-07-09</td>\n",
       "      <td>136.0000</td>\n",
       "      <td>136.9700</td>\n",
       "      <td>135.8000</td>\n",
       "      <td>136.4600</td>\n",
       "      <td>19953097</td>\n",
       "    </tr>\n",
       "  </tbody>\n",
       "</table>\n",
       "</div>"
      ],
      "text/plain": [
       "       index   1. open   2. high    3. low  4. close 5. volume\n",
       "0 2019-07-15  139.4400  139.5400  138.4600  138.9000  16646179\n",
       "1 2019-07-12  138.8500  139.1300  138.0099  138.9000  18936832\n",
       "2 2019-07-11  138.2000  139.2200  137.8700  138.4000  22327942\n",
       "3 2019-07-10  137.1300  138.5800  137.0200  137.8500  24204362\n",
       "4 2019-07-09  136.0000  136.9700  135.8000  136.4600  19953097"
      ]
     },
     "execution_count": 16,
     "metadata": {},
     "output_type": "execute_result"
    }
   ],
   "source": [
    "msft_stock_df_testing.head()"
   ]
  },
  {
   "cell_type": "code",
   "execution_count": 17,
   "metadata": {},
   "outputs": [
    {
     "data": {
      "text/html": [
       "<div>\n",
       "<style scoped>\n",
       "    .dataframe tbody tr th:only-of-type {\n",
       "        vertical-align: middle;\n",
       "    }\n",
       "\n",
       "    .dataframe tbody tr th {\n",
       "        vertical-align: top;\n",
       "    }\n",
       "\n",
       "    .dataframe thead th {\n",
       "        text-align: right;\n",
       "    }\n",
       "</style>\n",
       "<table border=\"1\" class=\"dataframe\">\n",
       "  <thead>\n",
       "    <tr style=\"text-align: right;\">\n",
       "      <th></th>\n",
       "      <th>index</th>\n",
       "      <th>1. open</th>\n",
       "      <th>2. high</th>\n",
       "      <th>3. low</th>\n",
       "      <th>4. close</th>\n",
       "      <th>5. volume</th>\n",
       "    </tr>\n",
       "  </thead>\n",
       "  <tbody>\n",
       "    <tr>\n",
       "      <th>379</th>\n",
       "      <td>2018-01-09</td>\n",
       "      <td>88.6500</td>\n",
       "      <td>88.7272</td>\n",
       "      <td>87.8600</td>\n",
       "      <td>88.2200</td>\n",
       "      <td>19390427</td>\n",
       "    </tr>\n",
       "    <tr>\n",
       "      <th>380</th>\n",
       "      <td>2018-01-08</td>\n",
       "      <td>88.2000</td>\n",
       "      <td>88.5800</td>\n",
       "      <td>87.6046</td>\n",
       "      <td>88.2800</td>\n",
       "      <td>20293930</td>\n",
       "    </tr>\n",
       "    <tr>\n",
       "      <th>381</th>\n",
       "      <td>2018-01-05</td>\n",
       "      <td>87.6600</td>\n",
       "      <td>88.4100</td>\n",
       "      <td>87.4300</td>\n",
       "      <td>88.1900</td>\n",
       "      <td>22526563</td>\n",
       "    </tr>\n",
       "    <tr>\n",
       "      <th>382</th>\n",
       "      <td>2018-01-04</td>\n",
       "      <td>86.5900</td>\n",
       "      <td>87.6600</td>\n",
       "      <td>86.5700</td>\n",
       "      <td>87.1100</td>\n",
       "      <td>21145985</td>\n",
       "    </tr>\n",
       "    <tr>\n",
       "      <th>383</th>\n",
       "      <td>2018-01-03</td>\n",
       "      <td>86.0550</td>\n",
       "      <td>86.5100</td>\n",
       "      <td>85.9700</td>\n",
       "      <td>86.3500</td>\n",
       "      <td>24173064</td>\n",
       "    </tr>\n",
       "  </tbody>\n",
       "</table>\n",
       "</div>"
      ],
      "text/plain": [
       "         index  1. open  2. high   3. low 4. close 5. volume\n",
       "379 2018-01-09  88.6500  88.7272  87.8600  88.2200  19390427\n",
       "380 2018-01-08  88.2000  88.5800  87.6046  88.2800  20293930\n",
       "381 2018-01-05  87.6600  88.4100  87.4300  88.1900  22526563\n",
       "382 2018-01-04  86.5900  87.6600  86.5700  87.1100  21145985\n",
       "383 2018-01-03  86.0550  86.5100  85.9700  86.3500  24173064"
      ]
     },
     "execution_count": 17,
     "metadata": {},
     "output_type": "execute_result"
    }
   ],
   "source": [
    "msft_stock_df_training.tail()"
   ]
  },
  {
   "cell_type": "code",
   "execution_count": 18,
   "metadata": {},
   "outputs": [
    {
     "data": {
      "text/plain": [
       "Index(['index', '1. open', '2. high', '3. low', '4. close', '5. volume'], dtype='object')"
      ]
     },
     "execution_count": 18,
     "metadata": {},
     "output_type": "execute_result"
    }
   ],
   "source": [
    "#msft_stock_df_reduced_training\n",
    "msft_stock_df_training.columns"
   ]
  },
  {
   "cell_type": "code",
   "execution_count": 19,
   "metadata": {},
   "outputs": [
    {
     "data": {
      "text/html": [
       "<div>\n",
       "<style scoped>\n",
       "    .dataframe tbody tr th:only-of-type {\n",
       "        vertical-align: middle;\n",
       "    }\n",
       "\n",
       "    .dataframe tbody tr th {\n",
       "        vertical-align: top;\n",
       "    }\n",
       "\n",
       "    .dataframe thead th {\n",
       "        text-align: right;\n",
       "    }\n",
       "</style>\n",
       "<table border=\"1\" class=\"dataframe\">\n",
       "  <thead>\n",
       "    <tr style=\"text-align: right;\">\n",
       "      <th></th>\n",
       "      <th>index</th>\n",
       "      <th>1. open</th>\n",
       "      <th>2. high</th>\n",
       "      <th>3. low</th>\n",
       "      <th>4. close</th>\n",
       "      <th>5. volume</th>\n",
       "    </tr>\n",
       "  </thead>\n",
       "  <tbody>\n",
       "    <tr>\n",
       "      <th>0</th>\n",
       "      <td>2019-07-15</td>\n",
       "      <td>139.4400</td>\n",
       "      <td>139.5400</td>\n",
       "      <td>138.4600</td>\n",
       "      <td>138.9000</td>\n",
       "      <td>16646179</td>\n",
       "    </tr>\n",
       "    <tr>\n",
       "      <th>1</th>\n",
       "      <td>2019-07-12</td>\n",
       "      <td>138.8500</td>\n",
       "      <td>139.1300</td>\n",
       "      <td>138.0099</td>\n",
       "      <td>138.9000</td>\n",
       "      <td>18936832</td>\n",
       "    </tr>\n",
       "    <tr>\n",
       "      <th>2</th>\n",
       "      <td>2019-07-11</td>\n",
       "      <td>138.2000</td>\n",
       "      <td>139.2200</td>\n",
       "      <td>137.8700</td>\n",
       "      <td>138.4000</td>\n",
       "      <td>22327942</td>\n",
       "    </tr>\n",
       "    <tr>\n",
       "      <th>3</th>\n",
       "      <td>2019-07-10</td>\n",
       "      <td>137.1300</td>\n",
       "      <td>138.5800</td>\n",
       "      <td>137.0200</td>\n",
       "      <td>137.8500</td>\n",
       "      <td>24204362</td>\n",
       "    </tr>\n",
       "    <tr>\n",
       "      <th>4</th>\n",
       "      <td>2019-07-09</td>\n",
       "      <td>136.0000</td>\n",
       "      <td>136.9700</td>\n",
       "      <td>135.8000</td>\n",
       "      <td>136.4600</td>\n",
       "      <td>19953097</td>\n",
       "    </tr>\n",
       "  </tbody>\n",
       "</table>\n",
       "</div>"
      ],
      "text/plain": [
       "       index   1. open   2. high    3. low  4. close 5. volume\n",
       "0 2019-07-15  139.4400  139.5400  138.4600  138.9000  16646179\n",
       "1 2019-07-12  138.8500  139.1300  138.0099  138.9000  18936832\n",
       "2 2019-07-11  138.2000  139.2200  137.8700  138.4000  22327942\n",
       "3 2019-07-10  137.1300  138.5800  137.0200  137.8500  24204362\n",
       "4 2019-07-09  136.0000  136.9700  135.8000  136.4600  19953097"
      ]
     },
     "execution_count": 19,
     "metadata": {},
     "output_type": "execute_result"
    }
   ],
   "source": [
    "msft_stock_df_testing.head()"
   ]
  },
  {
   "cell_type": "code",
   "execution_count": 20,
   "metadata": {},
   "outputs": [],
   "source": [
    "msft_stock_df_reduced_training=pd.DataFrame(msft_stock_df_training[['index','4. close']])\n",
    "msft_stock_df_reduced_training.columns=['ds','y']\n",
    "msft_stock_df_reduced_testing=pd.DataFrame(msft_stock_df_testing[['index','4. close']])\n",
    "msft_stock_df_reduced_testing.columns=['ds','y']"
   ]
  },
  {
   "cell_type": "code",
   "execution_count": 21,
   "metadata": {},
   "outputs": [
    {
     "data": {
      "text/html": [
       "<div>\n",
       "<style scoped>\n",
       "    .dataframe tbody tr th:only-of-type {\n",
       "        vertical-align: middle;\n",
       "    }\n",
       "\n",
       "    .dataframe tbody tr th {\n",
       "        vertical-align: top;\n",
       "    }\n",
       "\n",
       "    .dataframe thead th {\n",
       "        text-align: right;\n",
       "    }\n",
       "</style>\n",
       "<table border=\"1\" class=\"dataframe\">\n",
       "  <thead>\n",
       "    <tr style=\"text-align: right;\">\n",
       "      <th></th>\n",
       "      <th>ds</th>\n",
       "      <th>y</th>\n",
       "    </tr>\n",
       "  </thead>\n",
       "  <tbody>\n",
       "    <tr>\n",
       "      <th>77</th>\n",
       "      <td>2019-03-25</td>\n",
       "      <td>117.6600</td>\n",
       "    </tr>\n",
       "    <tr>\n",
       "      <th>78</th>\n",
       "      <td>2019-03-22</td>\n",
       "      <td>117.0500</td>\n",
       "    </tr>\n",
       "    <tr>\n",
       "      <th>79</th>\n",
       "      <td>2019-03-21</td>\n",
       "      <td>120.2200</td>\n",
       "    </tr>\n",
       "    <tr>\n",
       "      <th>80</th>\n",
       "      <td>2019-03-20</td>\n",
       "      <td>117.5200</td>\n",
       "    </tr>\n",
       "    <tr>\n",
       "      <th>81</th>\n",
       "      <td>2019-03-19</td>\n",
       "      <td>117.6500</td>\n",
       "    </tr>\n",
       "  </tbody>\n",
       "</table>\n",
       "</div>"
      ],
      "text/plain": [
       "           ds         y\n",
       "77 2019-03-25  117.6600\n",
       "78 2019-03-22  117.0500\n",
       "79 2019-03-21  120.2200\n",
       "80 2019-03-20  117.5200\n",
       "81 2019-03-19  117.6500"
      ]
     },
     "execution_count": 21,
     "metadata": {},
     "output_type": "execute_result"
    }
   ],
   "source": [
    "msft_stock_df_reduced_training.head()"
   ]
  },
  {
   "cell_type": "code",
   "execution_count": 22,
   "metadata": {},
   "outputs": [
    {
     "data": {
      "text/html": [
       "<div>\n",
       "<style scoped>\n",
       "    .dataframe tbody tr th:only-of-type {\n",
       "        vertical-align: middle;\n",
       "    }\n",
       "\n",
       "    .dataframe tbody tr th {\n",
       "        vertical-align: top;\n",
       "    }\n",
       "\n",
       "    .dataframe thead th {\n",
       "        text-align: right;\n",
       "    }\n",
       "</style>\n",
       "<table border=\"1\" class=\"dataframe\">\n",
       "  <thead>\n",
       "    <tr style=\"text-align: right;\">\n",
       "      <th></th>\n",
       "      <th>ds</th>\n",
       "      <th>y</th>\n",
       "    </tr>\n",
       "  </thead>\n",
       "  <tbody>\n",
       "    <tr>\n",
       "      <th>0</th>\n",
       "      <td>2019-07-15</td>\n",
       "      <td>138.9000</td>\n",
       "    </tr>\n",
       "    <tr>\n",
       "      <th>1</th>\n",
       "      <td>2019-07-12</td>\n",
       "      <td>138.9000</td>\n",
       "    </tr>\n",
       "    <tr>\n",
       "      <th>2</th>\n",
       "      <td>2019-07-11</td>\n",
       "      <td>138.4000</td>\n",
       "    </tr>\n",
       "    <tr>\n",
       "      <th>3</th>\n",
       "      <td>2019-07-10</td>\n",
       "      <td>137.8500</td>\n",
       "    </tr>\n",
       "    <tr>\n",
       "      <th>4</th>\n",
       "      <td>2019-07-09</td>\n",
       "      <td>136.4600</td>\n",
       "    </tr>\n",
       "  </tbody>\n",
       "</table>\n",
       "</div>"
      ],
      "text/plain": [
       "          ds         y\n",
       "0 2019-07-15  138.9000\n",
       "1 2019-07-12  138.9000\n",
       "2 2019-07-11  138.4000\n",
       "3 2019-07-10  137.8500\n",
       "4 2019-07-09  136.4600"
      ]
     },
     "execution_count": 22,
     "metadata": {},
     "output_type": "execute_result"
    }
   ],
   "source": [
    "msft_stock_df_reduced_testing.head()"
   ]
  },
  {
   "cell_type": "code",
   "execution_count": 23,
   "metadata": {},
   "outputs": [],
   "source": [
    "#msft_stock_df_reduced['ds'] =  pd.to_datetime(msft_stock_df_reduced['ds'], format='%Y-%m-%d')"
   ]
  },
  {
   "cell_type": "code",
   "execution_count": 24,
   "metadata": {},
   "outputs": [
    {
     "name": "stderr",
     "output_type": "stream",
     "text": [
      "INFO:fbprophet:Disabling yearly seasonality. Run prophet with yearly_seasonality=True to override this.\n",
      "INFO:fbprophet:Disabling daily seasonality. Run prophet with daily_seasonality=True to override this.\n",
      "C:\\Users\\jonat\\Anaconda3\\lib\\site-packages\\pystan\\misc.py:399: FutureWarning:\n",
      "\n",
      "Conversion of the second argument of issubdtype from `float` to `np.floating` is deprecated. In future, it will be treated as `np.float64 == np.dtype(float).type`.\n",
      "\n"
     ]
    },
    {
     "data": {
      "text/plain": [
       "<fbprophet.forecaster.Prophet at 0x2123a5bbcf8>"
      ]
     },
     "execution_count": 24,
     "metadata": {},
     "output_type": "execute_result"
    }
   ],
   "source": [
    "# Python\n",
    "m = Prophet()\n",
    "m.fit(msft_stock_df_reduced_training)"
   ]
  },
  {
   "cell_type": "code",
   "execution_count": 25,
   "metadata": {},
   "outputs": [],
   "source": [
    "# Python\n",
    "#future = m.make_future_dataframe(periods=365)\n",
    "#future.tail()"
   ]
  },
  {
   "cell_type": "code",
   "execution_count": 26,
   "metadata": {},
   "outputs": [
    {
     "data": {
      "text/html": [
       "<div>\n",
       "<style scoped>\n",
       "    .dataframe tbody tr th:only-of-type {\n",
       "        vertical-align: middle;\n",
       "    }\n",
       "\n",
       "    .dataframe tbody tr th {\n",
       "        vertical-align: top;\n",
       "    }\n",
       "\n",
       "    .dataframe thead th {\n",
       "        text-align: right;\n",
       "    }\n",
       "</style>\n",
       "<table border=\"1\" class=\"dataframe\">\n",
       "  <thead>\n",
       "    <tr style=\"text-align: right;\">\n",
       "      <th></th>\n",
       "      <th>ds</th>\n",
       "      <th>yhat</th>\n",
       "      <th>yhat_lower</th>\n",
       "      <th>yhat_upper</th>\n",
       "    </tr>\n",
       "  </thead>\n",
       "  <tbody>\n",
       "    <tr>\n",
       "      <th>72</th>\n",
       "      <td>2019-07-09</td>\n",
       "      <td>127.691235</td>\n",
       "      <td>121.368534</td>\n",
       "      <td>134.185603</td>\n",
       "    </tr>\n",
       "    <tr>\n",
       "      <th>73</th>\n",
       "      <td>2019-07-10</td>\n",
       "      <td>127.706348</td>\n",
       "      <td>121.263001</td>\n",
       "      <td>133.759999</td>\n",
       "    </tr>\n",
       "    <tr>\n",
       "      <th>74</th>\n",
       "      <td>2019-07-11</td>\n",
       "      <td>127.894608</td>\n",
       "      <td>121.342995</td>\n",
       "      <td>134.202018</td>\n",
       "    </tr>\n",
       "    <tr>\n",
       "      <th>75</th>\n",
       "      <td>2019-07-12</td>\n",
       "      <td>128.060251</td>\n",
       "      <td>121.328786</td>\n",
       "      <td>134.670973</td>\n",
       "    </tr>\n",
       "    <tr>\n",
       "      <th>76</th>\n",
       "      <td>2019-07-15</td>\n",
       "      <td>128.241294</td>\n",
       "      <td>121.202254</td>\n",
       "      <td>135.043729</td>\n",
       "    </tr>\n",
       "  </tbody>\n",
       "</table>\n",
       "</div>"
      ],
      "text/plain": [
       "           ds        yhat  yhat_lower  yhat_upper\n",
       "72 2019-07-09  127.691235  121.368534  134.185603\n",
       "73 2019-07-10  127.706348  121.263001  133.759999\n",
       "74 2019-07-11  127.894608  121.342995  134.202018\n",
       "75 2019-07-12  128.060251  121.328786  134.670973\n",
       "76 2019-07-15  128.241294  121.202254  135.043729"
      ]
     },
     "execution_count": 26,
     "metadata": {},
     "output_type": "execute_result"
    }
   ],
   "source": [
    "#forecast = m.predict(future)\n",
    "forecast=m.predict(msft_stock_df_reduced_testing)\n",
    "forecast['day_week'] = forecast.ds.dt.weekday_name\n",
    "forecast = forecast[forecast.day_week != 'Sunday']\n",
    "forecast = forecast[forecast.day_week != 'Saturday']\n",
    "forecast[['ds', 'yhat', 'yhat_lower', 'yhat_upper']].tail()\n"
   ]
  },
  {
   "cell_type": "code",
   "execution_count": 27,
   "metadata": {},
   "outputs": [
    {
     "data": {
      "image/png": "[encoded data removed]",
      "text/plain": [
       "<matplotlib.figure.Figure at 0x2123a5bb438>"
      ]
     },
     "metadata": {},
     "output_type": "display_data"
    }
   ],
   "source": [
    "# Python\n",
    "fig1 = m.plot(forecast)"
   ]
  },
  {
   "cell_type": "code",
   "execution_count": 28,
   "metadata": {},
   "outputs": [
    {
     "data": {
      "image/png": "[encoded data removed]",
      "text/plain": [
       "<matplotlib.figure.Figure at 0x2123ac81e10>"
      ]
     },
     "metadata": {},
     "output_type": "display_data"
    }
   ],
   "source": [
    "# Python\n",
    "fig2 = m.plot_components(forecast)\n"
   ]
  },
  {
   "cell_type": "code",
   "execution_count": 29,
   "metadata": {},
   "outputs": [],
   "source": [
    "# Python\n",
    "#from fbprophet.plot import plot_plotly\n",
    "#import plotly.offline as py\n",
    "#py.init_notebook_mode()\n",
    "\n",
    "#fig = plot_plotly(m, forecast)  # This returns a plotly Figure\n",
    "#py.iplot(fig)"
   ]
  },
  {
   "cell_type": "code",
   "execution_count": 30,
   "metadata": {},
   "outputs": [],
   "source": [
    "#Comparison with real values\n",
    "msft_stock_df_reduced=pd.DataFrame(msft_stock_df[['index','4. close']])\n",
    "msft_stock_df_reduced.columns=['ds','y']"
   ]
  },
  {
   "cell_type": "code",
   "execution_count": 31,
   "metadata": {},
   "outputs": [
    {
     "data": {
      "text/html": [
       "<div>\n",
       "<style scoped>\n",
       "    .dataframe tbody tr th:only-of-type {\n",
       "        vertical-align: middle;\n",
       "    }\n",
       "\n",
       "    .dataframe tbody tr th {\n",
       "        vertical-align: top;\n",
       "    }\n",
       "\n",
       "    .dataframe thead th {\n",
       "        text-align: right;\n",
       "    }\n",
       "</style>\n",
       "<table border=\"1\" class=\"dataframe\">\n",
       "  <thead>\n",
       "    <tr style=\"text-align: right;\">\n",
       "      <th></th>\n",
       "      <th>ds</th>\n",
       "      <th>y</th>\n",
       "    </tr>\n",
       "  </thead>\n",
       "  <tbody>\n",
       "    <tr>\n",
       "      <th>380</th>\n",
       "      <td>2018-01-08</td>\n",
       "      <td>88.2800</td>\n",
       "    </tr>\n",
       "    <tr>\n",
       "      <th>381</th>\n",
       "      <td>2018-01-05</td>\n",
       "      <td>88.1900</td>\n",
       "    </tr>\n",
       "    <tr>\n",
       "      <th>382</th>\n",
       "      <td>2018-01-04</td>\n",
       "      <td>87.1100</td>\n",
       "    </tr>\n",
       "    <tr>\n",
       "      <th>383</th>\n",
       "      <td>2018-01-03</td>\n",
       "      <td>86.3500</td>\n",
       "    </tr>\n",
       "    <tr>\n",
       "      <th>384</th>\n",
       "      <td>2018-01-02</td>\n",
       "      <td>85.9500</td>\n",
       "    </tr>\n",
       "  </tbody>\n",
       "</table>\n",
       "</div>"
      ],
      "text/plain": [
       "            ds        y\n",
       "380 2018-01-08  88.2800\n",
       "381 2018-01-05  88.1900\n",
       "382 2018-01-04  87.1100\n",
       "383 2018-01-03  86.3500\n",
       "384 2018-01-02  85.9500"
      ]
     },
     "execution_count": 31,
     "metadata": {},
     "output_type": "execute_result"
    }
   ],
   "source": [
    "msft_stock_df_reduced.tail()"
   ]
  },
  {
   "cell_type": "code",
   "execution_count": 32,
   "metadata": {},
   "outputs": [
    {
     "name": "stdout",
     "output_type": "stream",
     "text": [
      "(77, 17)\n",
      "(385, 2)\n"
     ]
    }
   ],
   "source": [
    "print(forecast.shape)\n",
    "print(msft_stock_df_reduced.shape)"
   ]
  },
  {
   "cell_type": "code",
   "execution_count": 33,
   "metadata": {},
   "outputs": [
    {
     "data": {
      "text/plain": [
       "(77, 3)"
      ]
     },
     "execution_count": 33,
     "metadata": {},
     "output_type": "execute_result"
    }
   ],
   "source": [
    "metric_df = forecast.set_index('ds')[['yhat']].join(msft_stock_df_reduced.set_index('ds').y).reset_index()\n",
    "metric_df.shape"
   ]
  },
  {
   "cell_type": "code",
   "execution_count": 34,
   "metadata": {},
   "outputs": [
    {
     "data": {
      "text/html": [
       "<div>\n",
       "<style scoped>\n",
       "    .dataframe tbody tr th:only-of-type {\n",
       "        vertical-align: middle;\n",
       "    }\n",
       "\n",
       "    .dataframe tbody tr th {\n",
       "        vertical-align: top;\n",
       "    }\n",
       "\n",
       "    .dataframe thead th {\n",
       "        text-align: right;\n",
       "    }\n",
       "</style>\n",
       "<table border=\"1\" class=\"dataframe\">\n",
       "  <thead>\n",
       "    <tr style=\"text-align: right;\">\n",
       "      <th></th>\n",
       "      <th>ds</th>\n",
       "      <th>yhat</th>\n",
       "      <th>y</th>\n",
       "    </tr>\n",
       "  </thead>\n",
       "  <tbody>\n",
       "    <tr>\n",
       "      <th>72</th>\n",
       "      <td>2019-07-09</td>\n",
       "      <td>127.691235</td>\n",
       "      <td>136.4600</td>\n",
       "    </tr>\n",
       "    <tr>\n",
       "      <th>73</th>\n",
       "      <td>2019-07-10</td>\n",
       "      <td>127.706348</td>\n",
       "      <td>137.8500</td>\n",
       "    </tr>\n",
       "    <tr>\n",
       "      <th>74</th>\n",
       "      <td>2019-07-11</td>\n",
       "      <td>127.894608</td>\n",
       "      <td>138.4000</td>\n",
       "    </tr>\n",
       "    <tr>\n",
       "      <th>75</th>\n",
       "      <td>2019-07-12</td>\n",
       "      <td>128.060251</td>\n",
       "      <td>138.9000</td>\n",
       "    </tr>\n",
       "    <tr>\n",
       "      <th>76</th>\n",
       "      <td>2019-07-15</td>\n",
       "      <td>128.241294</td>\n",
       "      <td>138.9000</td>\n",
       "    </tr>\n",
       "  </tbody>\n",
       "</table>\n",
       "</div>"
      ],
      "text/plain": [
       "           ds        yhat         y\n",
       "72 2019-07-09  127.691235  136.4600\n",
       "73 2019-07-10  127.706348  137.8500\n",
       "74 2019-07-11  127.894608  138.4000\n",
       "75 2019-07-12  128.060251  138.9000\n",
       "76 2019-07-15  128.241294  138.9000"
      ]
     },
     "execution_count": 34,
     "metadata": {},
     "output_type": "execute_result"
    }
   ],
   "source": [
    "#remove NaN\n",
    "metric_df.dropna(inplace=True)\n",
    "metric_df.tail()"
   ]
  },
  {
   "cell_type": "code",
   "execution_count": 35,
   "metadata": {
    "scrolled": true
   },
   "outputs": [],
   "source": [
    "from sklearn.metrics import mean_squared_error, r2_score, mean_absolute_error,explained_variance_score"
   ]
  },
  {
   "cell_type": "code",
   "execution_count": 36,
   "metadata": {},
   "outputs": [
    {
     "data": {
      "text/plain": [
       "-0.33348712918598866"
      ]
     },
     "execution_count": 36,
     "metadata": {},
     "output_type": "execute_result"
    }
   ],
   "source": [
    "r2_score(metric_df.y, metric_df.yhat)"
   ]
  },
  {
   "cell_type": "code",
   "execution_count": 37,
   "metadata": {},
   "outputs": [
    {
     "data": {
      "text/plain": [
       "53.02632710680534"
      ]
     },
     "execution_count": 37,
     "metadata": {},
     "output_type": "execute_result"
    }
   ],
   "source": [
    "mean_squared_error(metric_df.y, metric_df.yhat)"
   ]
  },
  {
   "cell_type": "code",
   "execution_count": 38,
   "metadata": {},
   "outputs": [
    {
     "data": {
      "text/plain": [
       "0.74541340164012"
      ]
     },
     "execution_count": 38,
     "metadata": {},
     "output_type": "execute_result"
    }
   ],
   "source": [
    "explained_variance_score(metric_df.y,metric_df.yhat, multioutput='variance_weighted')"
   ]
  },
  {
   "cell_type": "code",
   "execution_count": 20,
   "metadata": {},
   "outputs": [],
   "source": [
    "# Python\n",
    "#from fbprophet.diagnostics import cross_validation\n",
    "#df_cv = cross_validation(m, initial='730 days', period='180 days', horizon = '365 days')\n",
    "#df_cv.head()"
   ]
  },
  {
   "cell_type": "code",
   "execution_count": 21,
   "metadata": {},
   "outputs": [],
   "source": [
    "# Python\n",
    "#from fbprophet.diagnostics import performance_metrics\n",
    "#df_p = performance_metrics(df_cv)\n",
    "#df_p.tail()"
   ]
  },
  {
   "cell_type": "code",
   "execution_count": 22,
   "metadata": {},
   "outputs": [],
   "source": [
    "#np.mean(df_p['mse'])"
   ]
  },
  {
   "cell_type": "code",
   "execution_count": 23,
   "metadata": {},
   "outputs": [],
   "source": [
    "# Python\n",
    "#from fbprophet.plot import plot_cross_validation_metric\n",
    "#fig = plot_cross_validation_metric(df_cv, metric='rmse')\n"
   ]
  },
  {
   "cell_type": "markdown",
   "metadata": {},
   "source": [
    "<h3>References:</h3>\n",
    "https://github.com/urgedata/pythondata/blob/master/fbprophet/fbprophet_metrics.ipynb<br>\n",
    "https://medium.com/mongolian-data-stories/using-facebooks-prophet-to-predict-mongolian-stocks-cdf4feabd558<br>\n",
    "https://facebook.github.io/prophet/docs/"
   ]
  },
  {
   "cell_type": "code",
   "execution_count": null,
   "metadata": {},
   "outputs": [],
   "source": []
  }
 ],
 "metadata": {
  "kernelspec": {
   "display_name": "Python 3",
   "language": "python",
   "name": "python3"
  },
  "language_info": {
   "codemirror_mode": {
    "name": "ipython",
    "version": 3
   },
   "file_extension": ".py",
   "mimetype": "text/x-python",
   "name": "python",
   "nbconvert_exporter": "python",
   "pygments_lexer": "ipython3",
   "version": "3.6.8"
  }
 },
 "nbformat": 4,
 "nbformat_minor": 2
}
